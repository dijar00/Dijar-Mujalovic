{
  "nbformat": 4,
  "nbformat_minor": 0,
  "metadata": {
    "colab": {
      "provenance": [],
      "authorship_tag": "ABX9TyOvNg4gnuNcaHuqIUPbkrhj",
      "include_colab_link": true
    },
    "kernelspec": {
      "name": "python3",
      "display_name": "Python 3"
    },
    "language_info": {
      "name": "python"
    }
  },
  "cells": [
    {
      "cell_type": "markdown",
      "metadata": {
        "id": "view-in-github",
        "colab_type": "text"
      },
      "source": [
        "<a href=\"https://colab.research.google.com/github/dijar00/Dijar-Mujalovic/blob/main/Copy_of_Untitled6.ipynb\" target=\"_parent\"><img src=\"https://colab.research.google.com/assets/colab-badge.svg\" alt=\"Open In Colab\"/></a>"
      ]
    },
    {
      "cell_type": "code",
      "execution_count": null,
      "metadata": {
        "id": "67-wFQjmT92E"
      },
      "outputs": [],
      "source": [
        "def stampaj_brojeve(n=1, count=50):\n",
        "    if count == 0:  # Bazni slučaj: kada ispišemo 50 brojeva, prekidamo rekurziju\n",
        "        return\n",
        "    print(n)\n",
        "    stampaj_brojeve(n + 1, count - 1)  # Rekurzivni poziv sa sledećim brojem i smanjenim brojačem\n"
      ]
    },
    {
      "cell_type": "code",
      "source": [
        "def decimal_to_binary(n):\n",
        "    if n == 0:\n",
        "        return \"0\"\n",
        "    elif n == 1:\n",
        "        return \"1\"\n",
        "    else:\n",
        "        return decimal_to_binary(n // 2) + str(n % 2)\n",
        "\n",
        "# Test primer\n",
        "broj = 13\n",
        "print(decimal_to_binary(broj))  # Izlaz: 1101\n"
      ],
      "metadata": {
        "colab": {
          "base_uri": "https://localhost:8080/"
        },
        "id": "N6NKaxPXUcYk",
        "outputId": "421f05e8-b215-41e3-db8f-9f50fa9b2333"
      },
      "execution_count": null,
      "outputs": [
        {
          "output_type": "stream",
          "name": "stdout",
          "text": [
            "1101\n"
          ]
        }
      ]
    },
    {
      "cell_type": "code",
      "source": [
        "def stepenovanje(x, n):\n",
        "    if n == 0:\n",
        "        return 1  # Bilo koji broj na stepen 0 je 1\n",
        "    elif n == 1:\n",
        "        return x  # Bilo koji broj na stepen 1 je sam taj broj\n",
        "    else:\n",
        "        return x * stepenovanje(x, n - 1)  # Rekurzivni poziv\n",
        "\n",
        "# Test primeri\n",
        "print(stepenovanje(3, 3))  # 3^3 = 8\n",
        "print(stepenovanje(5, 4))  # 5^4 = 625\n",
        "print(stepenovanje(10, 0)) # 10^0 = 1\n"
      ],
      "metadata": {
        "colab": {
          "base_uri": "https://localhost:8080/"
        },
        "id": "auiCDBA-U9rZ",
        "outputId": "8036966b-9176-47f0-d3a0-7e5d4c10dbc2"
      },
      "execution_count": null,
      "outputs": [
        {
          "output_type": "stream",
          "name": "stdout",
          "text": [
            "27\n",
            "625\n",
            "1\n"
          ]
        }
      ]
    },
    {
      "cell_type": "code",
      "source": [
        "def okreni_string(s):\n",
        "    if len(s) == 0:  # Osnovni slučaj: prazan string\n",
        "        return s\n",
        "    else:\n",
        "        return s[-1] + okreni_string(s[:-1])  # Rekurzivni poziv\n",
        "\n",
        "# Test primer\n",
        "print(okreni_string(\"zdravo\"))  # Izlaz: \"ovradz\"\n"
      ],
      "metadata": {
        "colab": {
          "base_uri": "https://localhost:8080/"
        },
        "id": "I7MdL6YfVQp6",
        "outputId": "db70cbe0-a00d-4d14-e9e4-f253be2e541a"
      },
      "execution_count": null,
      "outputs": [
        {
          "output_type": "stream",
          "name": "stdout",
          "text": [
            "ovardz\n"
          ]
        }
      ]
    },
    {
      "cell_type": "code",
      "source": [
        "class Node:\n",
        "    def __init__(self, data):\n",
        "        self.data = data  # Vrednost čvora\n",
        "        self.next = None  # Sledeći čvor u listi\n",
        "\n",
        "class LinkedList:\n",
        "    def __init__(self):\n",
        "        self.head = None  # Početak liste\n",
        "\n",
        "    # Funkcija za dodavanje elementa na kraj liste\n",
        "    def append(self, data):\n",
        "        new_node = Node(data)\n",
        "        if not self.head:\n",
        "            self.head = new_node\n",
        "            return\n",
        "        last = self.head\n",
        "        while last.next:\n",
        "            last = last.next\n",
        "        last.next = new_node\n",
        "\n",
        "    # Funkcija za ispisivanje svih elemenata u listi\n",
        "    def print_list(self):\n",
        "        current = self.head\n",
        "        while current:\n",
        "            print(current.data, end=\" -> \")\n",
        "            current = current.next\n",
        "        print(\"None\")\n",
        "\n",
        "    # Funkcija za brisanje elementa na osnovu vrednosti\n",
        "    def delete_value(self, value):\n",
        "        current = self.head\n",
        "        # Ako je prvi čvor sam element\n",
        "        if current and current.data == value:\n",
        "            self.head = current.next\n",
        "            current = None\n",
        "            return\n",
        "\n",
        "        # Tražimo element i brišemo ga\n",
        "        prev = None\n",
        "        while current and current.data != value:\n",
        "            prev = current\n",
        "            current = current.next\n",
        "\n",
        "        if current is None:\n",
        "            print(\"Element nije pronađen.\")\n",
        "            return\n",
        "\n",
        "        prev.next = current.next\n",
        "        current = None\n",
        "\n",
        "    # Funkcija za uklanjanje najvećeg elementa iz liste\n",
        "    def remove_max(self):\n",
        "        if not self.head:\n",
        "            print(\"Lista je prazna.\")\n",
        "            return\n",
        "\n",
        "        # Inicijalizacija za pronalaženje najvećeg elementa\n",
        "        current = self.head\n",
        "        max_node = self.head\n",
        "        prev = None\n",
        "        prev_max = None\n",
        "\n",
        "        while current:\n",
        "            if current.data > max_node.data:\n",
        "                max_node = current\n",
        "                prev_max = prev\n",
        "            prev = current\n",
        "            current = current.next\n",
        "\n",
        "        # Ako je najveći element prvi čvor\n",
        "        if prev_max is None:\n",
        "            self.head = self.head.next\n",
        "        else:\n",
        "            prev_max.next = max_node.next\n",
        "\n",
        "        print(f\"Najveći element {max_node.data} je uklonjen.\")\n",
        "\n",
        "# Testiranje funkcionalnosti\n",
        "ll = LinkedList()\n",
        "ll.append(10)\n",
        "ll.append(25)\n",
        "ll.append(5)\n",
        "ll.append(30)\n",
        "ll.append(20)\n",
        "\n",
        "print(\"Lista pre brisanja najvećeg elementa:\")\n",
        "ll.print_list()\n",
        "\n",
        "ll.remove_max()\n",
        "\n",
        "print(\"Lista nakon brisanja najvećeg elementa:\")\n",
        "ll.print_list()\n"
      ],
      "metadata": {
        "colab": {
          "base_uri": "https://localhost:8080/"
        },
        "id": "kyAQES9pVbqQ",
        "outputId": "0a13b496-4854-42fd-abd6-8c8ced3f5aef"
      },
      "execution_count": null,
      "outputs": [
        {
          "output_type": "stream",
          "name": "stdout",
          "text": [
            "Lista pre brisanja najvećeg elementa:\n",
            "10 -> 25 -> 5 -> 30 -> 20 -> None\n",
            "Najveći element 30 je uklonjen.\n",
            "Lista nakon brisanja najvećeg elementa:\n",
            "10 -> 25 -> 5 -> 20 -> None\n"
          ]
        }
      ]
    },
    {
      "cell_type": "code",
      "source": [
        "class Node:\n",
        "    def __init__(self, data):\n",
        "        self.data = data  # Vrednost čvora\n",
        "        self.next = None  # Sledeći čvor u listi\n",
        "\n",
        "class LinkedList:\n",
        "    def __init__(self):\n",
        "        self.head = None  # Početak liste\n",
        "\n",
        "    # Funkcija za dodavanje elementa na kraj liste\n",
        "    def append(self, data):\n",
        "        new_node = Node(data)\n",
        "        if not self.head:\n",
        "            self.head = new_node\n",
        "            return\n",
        "        last = self.head\n",
        "        while last.next:\n",
        "            last = last.next\n",
        "        last.next = new_node\n",
        "\n",
        "    # Funkcija za ispisivanje svih elemenata u listi\n",
        "    def print_list(self):\n",
        "        current = self.head\n",
        "        while current:\n",
        "            print(current.data, end=\" -> \")\n",
        "            current = current.next\n",
        "        print(\"None\")\n",
        "\n",
        "    # Funkcija koja spaja dve liste\n",
        "    def concat_lists(self, list2):\n",
        "        # Ako je trenutna lista prazna, samo postavimo listu list2 kao head\n",
        "        if not self.head:\n",
        "            self.head = list2.head\n",
        "            return\n",
        "\n",
        "        # Ako list2 nije prazna, spojimo listu self sa listom list2\n",
        "        current = self.head\n",
        "        while current.next:  # Idemo do poslednjeg čvora u listi self\n",
        "            current = current.next\n",
        "\n",
        "        # Povezivanje poslednjeg čvora u listi self sa početkom liste list2\n",
        "        current.next = list2.head\n",
        "\n",
        "# Testiranje funkcionalnosti\n",
        "ll1 = LinkedList()\n",
        "ll1.append(1)\n",
        "ll1.append(2)\n",
        "ll1.append(5)\n",
        "\n",
        "ll2 = LinkedList()\n",
        "ll2.append(4)\n",
        "ll2.append(7)\n",
        "\n",
        "print(\"Lista 1 pre spajanja:\")\n",
        "ll1.print_list()\n",
        "\n",
        "print(\"Lista 2 pre spajanja:\")\n",
        "ll2.print_list()\n",
        "\n",
        "# Spajanje listi\n",
        "ll1.concat_lists(ll2)\n",
        "\n",
        "print(\"Lista 1 nakon spajanja sa listom 2:\")\n",
        "ll1.print_list()\n"
      ],
      "metadata": {
        "colab": {
          "base_uri": "https://localhost:8080/"
        },
        "id": "O9VVMx_sV4uq",
        "outputId": "b8db8403-e518-43b0-ce47-6c113929494e"
      },
      "execution_count": null,
      "outputs": [
        {
          "output_type": "stream",
          "name": "stdout",
          "text": [
            "Lista 1 pre spajanja:\n",
            "1 -> 2 -> 5 -> None\n",
            "Lista 2 pre spajanja:\n",
            "4 -> 7 -> None\n",
            "Lista 1 nakon spajanja sa listom 2:\n",
            "1 -> 2 -> 5 -> 4 -> 7 -> None\n"
          ]
        }
      ]
    },
    {
      "cell_type": "code",
      "source": [
        "class Node:\n",
        "    def __init__(self, data):\n",
        "        self.data = data  # Vrednost čvora\n",
        "        self.next = None  # Sledeći čvor\n",
        "        self.prev = None  # Prethodni čvor\n",
        "\n",
        "class DoublyLinkedList:\n",
        "    def __init__(self):\n",
        "        self.head = None  # Početak liste\n",
        "\n",
        "    # Funkcija za dodavanje elementa na kraj liste\n",
        "    def append(self, data):\n",
        "        new_node = Node(data)\n",
        "        if not self.head:\n",
        "            self.head = new_node\n",
        "            return\n",
        "        last = self.head\n",
        "        while last.next:\n",
        "            last = last.next\n",
        "        last.next = new_node\n",
        "        new_node.prev = last\n",
        "\n",
        "    # Funkcija za ispisivanje svih elemenata u listi\n",
        "    def print_list(self):\n",
        "        current = self.head\n",
        "        while current:\n",
        "            print(current.data, end=\" <-> \")\n",
        "            current = current.next\n",
        "        print(\"None\")\n",
        "\n",
        "    # Funkcija koja uklanja duplikate\n",
        "    def remove_duplicates(self):\n",
        "        current = self.head\n",
        "        seen = set()  # Set za praćenje već viđenih elemenata\n",
        "        while current:\n",
        "            if current.data in seen:\n",
        "                # Ako je element već viđen, brišemo ga\n",
        "                self.delete_node(current)\n",
        "            else:\n",
        "                # Ako nije, dodajemo ga u set i nastavljamo\n",
        "                seen.add(current.data)\n",
        "            current = current.next\n",
        "\n",
        "    # Funkcija za brisanje čvora\n",
        "    def delete_node(self, node):\n",
        "        if node.prev:  # Ako postoji prethodni čvor\n",
        "            node.prev.next = node.next\n",
        "        if node.next:  # Ako postoji sledeći čvor\n",
        "            node.next.prev = node.prev\n",
        "        if node == self.head:  # Ako je čvor prvi u listi\n",
        "            self.head = node.next\n",
        "        node = None  # Uklanjamo čvor iz memorije\n",
        "\n",
        "# Testiranje funkcionalnosti\n",
        "dll = DoublyLinkedList()\n",
        "dll.append(1)\n",
        "dll.append(2)\n",
        "dll.append(2)\n",
        "dll.append(3)\n",
        "dll.append(1)\n",
        "dll.append(10)\n",
        "\n",
        "print(\"Lista pre uklanjanja duplikata:\")\n",
        "dll.print_list()\n",
        "\n",
        "dll.remove_duplicates()\n",
        "\n",
        "print(\"Lista nakon uklanjanja duplikata:\")\n",
        "dll.print_list()\n"
      ],
      "metadata": {
        "colab": {
          "base_uri": "https://localhost:8080/"
        },
        "id": "rz7ZpOdoWRsZ",
        "outputId": "a1f20a19-97e4-4013-f75a-2e45c5d828a0"
      },
      "execution_count": null,
      "outputs": [
        {
          "output_type": "stream",
          "name": "stdout",
          "text": [
            "Lista pre uklanjanja duplikata:\n",
            "1 <-> 2 <-> 2 <-> 3 <-> 1 <-> 10 <-> None\n",
            "Lista nakon uklanjanja duplikata:\n",
            "1 <-> 2 <-> 3 <-> 10 <-> None\n"
          ]
        }
      ]
    },
    {
      "cell_type": "code",
      "source": [
        "class Node:\n",
        "    def __init__(self, data):\n",
        "        self.data = data  # Vrednost čvora\n",
        "        self.next = None  # Sledeći čvor\n",
        "        self.prev = None  # Prethodni čvor\n",
        "\n",
        "class DoublyLinkedList:\n",
        "    def __init__(self):\n",
        "        self.head = None  # Početak liste\n",
        "        self.tail = None  # Kraj liste\n",
        "\n",
        "    # Funkcija za dodavanje elementa na kraj liste\n",
        "    def append(self, data):\n",
        "        new_node = Node(data)\n",
        "        if not self.head:  # Ako lista je prazna\n",
        "            self.head = self.tail = new_node\n",
        "        else:\n",
        "            self.tail.next = new_node\n",
        "            new_node.prev = self.tail\n",
        "            self.tail = new_node\n",
        "\n",
        "    # Funkcija za ispisivanje svih elemenata u listi\n",
        "    def print_list(self):\n",
        "        current = self.head\n",
        "        while current:\n",
        "            print(current.data, end=\" <-> \")\n",
        "            current = current.next\n",
        "        print(\"None\")\n",
        "\n",
        "    # Funkcija za izbacivanje poslednjih N elemenata\n",
        "    def prizbaciN(self, N):\n",
        "        current = self.tail\n",
        "        count = 0\n",
        "        while current and N > 0:  # Prolazimo unazad dok ne izbacimo N elemenata\n",
        "            prev_node = current.prev\n",
        "            self.delete_node(current)\n",
        "            current = prev_node\n",
        "            N -= 1\n",
        "            count += 1\n",
        "\n",
        "        return count  # Vraća broj izbačenih elemenata\n",
        "\n",
        "    # Funkcija za brisanje čvora\n",
        "    def delete_node(self, node):\n",
        "        if node.prev:  # Ako postoji prethodni čvor\n",
        "            node.prev.next = node.next\n",
        "        if node.next:  # Ako postoji sledeći čvor\n",
        "            node.next.prev = node.prev\n",
        "        if node == self.head:  # Ako je čvor prvi u listi\n",
        "            self.head = node.next\n",
        "        if node == self.tail:  # Ako je čvor poslednji u listi\n",
        "            self.tail = node.prev\n",
        "        node = None  # Uklanjamo čvor iz memorije\n",
        "\n",
        "# Testiranje funkcionalnosti\n",
        "dll = DoublyLinkedList()\n",
        "dll.append(1)\n",
        "dll.append(2)\n",
        "dll.append(3)\n",
        "dll.append(4)\n",
        "dll.append(5)\n",
        "\n",
        "print(\"Lista pre izbacivanja poslednjih N elemenata:\")\n",
        "dll.print_list()\n",
        "\n",
        "# Izbacivanje poslednjih 3 elementa\n",
        "izbaceno = dll.prizbaciN(3)\n",
        "print(f\"Broj izbačenih elemenata: {izbaceno}\")\n",
        "\n",
        "print(\"Lista nakon izbacivanja poslednjih N elemenata:\")\n",
        "dll.print_list()\n"
      ],
      "metadata": {
        "colab": {
          "base_uri": "https://localhost:8080/"
        },
        "id": "nI47Zr-xW87x",
        "outputId": "2c1ee867-3efc-4d60-a9b2-bda414947df5"
      },
      "execution_count": null,
      "outputs": [
        {
          "output_type": "stream",
          "name": "stdout",
          "text": [
            "Lista pre izbacivanja poslednjih N elemenata:\n",
            "1 <-> 2 <-> 3 <-> 4 <-> 5 <-> None\n",
            "Broj izbačenih elemenata: 3\n",
            "Lista nakon izbacivanja poslednjih N elemenata:\n",
            "1 <-> 2 <-> None\n"
          ]
        }
      ]
    },
    {
      "cell_type": "code",
      "source": [
        "class StudentNode:\n",
        "    def __init__(self, ime, prezime, godina, prosjek):\n",
        "        self.ime = ime\n",
        "        self.prezime = prezime\n",
        "        self.godina = godina\n",
        "        self.prosjek = prosjek\n",
        "        self.next = None  # Sledeći čvor\n",
        "        self.prev = None  # Prethodni čvor\n",
        "\n",
        "class DoublyLinkedList:\n",
        "    def __init__(self):\n",
        "        self.head = None  # Početak liste\n",
        "        self.tail = None  # Kraj liste\n",
        "\n",
        "    # Funkcija za dodavanje studenta na kraj liste\n",
        "    def append(self, ime, prezime, godina, prosjek):\n",
        "        new_node = StudentNode(ime, prezime, godina, prosjek)\n",
        "        if not self.head:  # Ako lista je prazna\n",
        "            self.head = self.tail = new_node\n",
        "        else:\n",
        "            self.tail.next = new_node\n",
        "            new_node.prev = self.tail\n",
        "            self.tail = new_node\n",
        "\n",
        "    # Funkcija za štampanje svih elemenata u listi\n",
        "    def print_list(self):\n",
        "        current = self.head\n",
        "        while current:\n",
        "            print(f\"{current.ime} {current.prezime}, {current.godina}, {current.prosjek}\")\n",
        "            current = current.next\n",
        "\n",
        "    # Funkcija koja izdvaja studente sa prosekom većim od zadatog\n",
        "    def izdvoji_sa_vecim_prosjekom(self, zadati_prosjek):\n",
        "        current = self.head\n",
        "        studenti = []\n",
        "        while current:\n",
        "            if current.prosjek > zadati_prosjek:\n",
        "                studenti.append(f\"{current.ime} {current.prezime}, {current.prosjek}\")\n",
        "            current = current.next\n",
        "        return studenti\n",
        "\n",
        "    # Funkcija koja prebrojava studente sa prosekom većim od zadatog\n",
        "    def prebroj_sa_vecim_prosjekom(self, zadati_prosjek):\n",
        "        current = self.head\n",
        "        count = 0\n",
        "        while current:\n",
        "            if current.prosjek > zadati_prosjek:\n",
        "                count += 1\n",
        "            current = current.next\n",
        "        return count\n",
        "\n",
        "    # Funkcija koja štampa elemente pre zadatog indeksa u obrnutom poretku\n",
        "    def print_before_index_reverse(self, index):\n",
        "        current = self.head\n",
        "        count = 0\n",
        "        while current:\n",
        "            if count == index:\n",
        "                break\n",
        "            current = current.next\n",
        "            count += 1\n",
        "\n",
        "        # Sada koristimo prev da štampamo u obrnutom poretku\n",
        "        while current:\n",
        "            print(f\"{current.ime} {current.prezime}, {current.godina}, {current.prosjek}\")\n",
        "            current = current.prev\n",
        "\n",
        "# Testiranje funkcionalnosti\n",
        "dll = DoublyLinkedList()\n",
        "\n",
        "# Dodavanje studenata\n",
        "dll.append(\"Dijar\", \"Mujalovc\", 1998, 8.5)\n",
        "dll.append(\"Shefko\", \"Karamanaga\", 1997, 9.2)\n",
        "dll.append(\"Maksud \", \"Peku\", 1999, 7.6)\n",
        "dll.append(\"Amar\", \"Leskovci\", 1996, 8.9)\n",
        "dll.append(\"Nuri\", \"Tivari\", 1995, 9.5)\n",
        "\n",
        "# Ispisivanje svih studenata\n",
        "print(\"Svi studenti:\")\n",
        "dll.print_list()\n",
        "\n",
        "# Izdvajanje studenata sa prosekom većim od 8.0\n",
        "zadati_prosjek = 8.0\n",
        "print(f\"\\nStudenti sa prosekom većim od {zadati_prosjek}:\")\n",
        "students = dll.izdvoji_sa_vecim_prosjekom(zadati_prosjek)\n",
        "for student in students:\n",
        "    print(student)\n",
        "\n",
        "# Prebrojavanje studenata sa prosekom većim od 8.0\n",
        "count = dll.prebroj_sa_vecim_prosjekom(zadati_prosjek)\n",
        "print(f\"\\nBroj studenata sa prosekom većim od {zadati_prosjek}: {count}\")\n",
        "\n",
        "# Štampanje elemenata pre zadatog indeksa (npr. indeks 3) u obrnutom poretku\n",
        "print(\"\\nŠtampanje studenata pre indeksa 3 u obrnutom poretku:\")\n",
        "dll.print_before_index_reverse(3)\n"
      ],
      "metadata": {
        "colab": {
          "base_uri": "https://localhost:8080/"
        },
        "id": "hL6lVqz5XSie",
        "outputId": "0eafc508-56fd-4f77-a08f-3899ecb5987c"
      },
      "execution_count": null,
      "outputs": [
        {
          "output_type": "stream",
          "name": "stdout",
          "text": [
            "Svi studenti:\n",
            "Dijar Mujalovc, 1998, 8.5\n",
            "Shefko Karamanaga, 1997, 9.2\n",
            "Maksud  Peku, 1999, 7.6\n",
            "Amar Leskovci, 1996, 8.9\n",
            "Nuri Tivari, 1995, 9.5\n",
            "\n",
            "Studenti sa prosekom većim od 8.0:\n",
            "Dijar Mujalovc, 8.5\n",
            "Shefko Karamanaga, 9.2\n",
            "Amar Leskovci, 8.9\n",
            "Nuri Tivari, 9.5\n",
            "\n",
            "Broj studenata sa prosekom većim od 8.0: 4\n",
            "\n",
            "Štampanje studenata pre indeksa 3 u obrnutom poretku:\n",
            "Amar Leskovci, 1996, 8.9\n",
            "Maksud  Peku, 1999, 7.6\n",
            "Shefko Karamanaga, 1997, 9.2\n",
            "Dijar Mujalovc, 1998, 8.5\n"
          ]
        }
      ]
    }
  ]
}